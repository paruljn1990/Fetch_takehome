{
 "cells": [
  {
   "cell_type": "markdown",
   "metadata": {},
   "source": [
    "## Fetch - Data Analyst Take Home Project"
   ]
  },
  {
   "cell_type": "markdown",
   "metadata": {},
   "source": [
    "### Business Problem Statement\n",
    "\n",
    "Fetch is a platform that rewards users for scanning receipts, providing valuable insights into consumer purchasing behavior. The goal of this analysis is to explore Fetch's transaction data to identify trends, assess data quality issues, and derive actionable insights that can inform business and marketing strategies. Specifically, we aim to determine the top-performing brands, identify power users, and analyze category performance across different user demographics."
   ]
  },
  {
   "cell_type": "markdown",
   "metadata": {},
   "source": [
    "### Analysis Steps:\n",
    "\n",
    "- Data Exploration:\n",
    "    - Load and inspect the CSV files\n",
    "    - Identify missing, duplicate, or inconsistent values\n",
    "    - Determine any ambiguous or complex fields that need further clarification\n",
    "\n",
    "- Data Quality Checks:\n",
    "    - Check for anomalies such as incorrect date formats, negative sales values or incorrect data value formats\n",
    "    - Identify fields that require transformation\n",
    "\n",
    "- Business Questions\n",
    "    - Determine the top 5 brands by receipts scanned for users aged 21 and over\n",
    "    - Identify the top 5 brands by sales for users with accounts older than six months\n",
    "    - Define and identify Fetch's power users based on assumptions\n",
    "    - Determine the leading brand in the Dips & Salsa category\n",
    "\n",
    "- Business Insights and Stakeholder Communication\n",
    "    - Highlight an interesting pattern observed from the analysis\n",
    "    - Summarize key findings in an accessible format\n",
    "    - Present data quality concerns and unresolved questions\n",
    "\n",
    "- Future Analysis"
   ]
  },
  {
   "cell_type": "code",
   "execution_count": 1067,
   "metadata": {},
   "outputs": [],
   "source": [
    "# Import necessary libraries\n",
    "import numpy as np\n",
    "import pandas as pd\n",
    "import matplotlib.pyplot as plt\n",
    "import seaborn as sns\n",
    "import warnings\n",
    "# Suppress warnings for better readability\n",
    "warnings.filterwarnings('ignore')"
   ]
  },
  {
   "cell_type": "code",
   "execution_count": 1068,
   "metadata": {},
   "outputs": [],
   "source": [
    "# Reading the CSV files containing user, transaction, and product data\n",
    "users_df = pd.read_csv(\"C:/Users/parul/Downloads/Fetch project/USER_TAKEHOME.csv\")\n",
    "transactions_df = pd.read_csv(\"C:/Users/parul/Downloads/Fetch project/TRANSACTION_TAKEHOME.csv\")\n",
    "products_df = pd.read_csv(\"C:/Users/parul/Downloads/Fetch project/PRODUCTS_TAKEHOME.csv\")"
   ]
  },
  {
   "cell_type": "code",
   "execution_count": 1069,
   "metadata": {},
   "outputs": [
    {
     "data": {
      "text/html": [
       "<div>\n",
       "<style scoped>\n",
       "    .dataframe tbody tr th:only-of-type {\n",
       "        vertical-align: middle;\n",
       "    }\n",
       "\n",
       "    .dataframe tbody tr th {\n",
       "        vertical-align: top;\n",
       "    }\n",
       "\n",
       "    .dataframe thead th {\n",
       "        text-align: right;\n",
       "    }\n",
       "</style>\n",
       "<table border=\"1\" class=\"dataframe\">\n",
       "  <thead>\n",
       "    <tr style=\"text-align: right;\">\n",
       "      <th></th>\n",
       "      <th>ID</th>\n",
       "      <th>CREATED_DATE</th>\n",
       "      <th>BIRTH_DATE</th>\n",
       "      <th>STATE</th>\n",
       "      <th>LANGUAGE</th>\n",
       "      <th>GENDER</th>\n",
       "    </tr>\n",
       "  </thead>\n",
       "  <tbody>\n",
       "    <tr>\n",
       "      <th>0</th>\n",
       "      <td>5ef3b4f17053ab141787697d</td>\n",
       "      <td>2020-06-24 20:17:54.000 Z</td>\n",
       "      <td>2000-08-11 00:00:00.000 Z</td>\n",
       "      <td>CA</td>\n",
       "      <td>es-419</td>\n",
       "      <td>female</td>\n",
       "    </tr>\n",
       "    <tr>\n",
       "      <th>1</th>\n",
       "      <td>5ff220d383fcfc12622b96bc</td>\n",
       "      <td>2021-01-03 19:53:55.000 Z</td>\n",
       "      <td>2001-09-24 04:00:00.000 Z</td>\n",
       "      <td>PA</td>\n",
       "      <td>en</td>\n",
       "      <td>female</td>\n",
       "    </tr>\n",
       "    <tr>\n",
       "      <th>2</th>\n",
       "      <td>6477950aa55bb77a0e27ee10</td>\n",
       "      <td>2023-05-31 18:42:18.000 Z</td>\n",
       "      <td>1994-10-28 00:00:00.000 Z</td>\n",
       "      <td>FL</td>\n",
       "      <td>es-419</td>\n",
       "      <td>female</td>\n",
       "    </tr>\n",
       "    <tr>\n",
       "      <th>3</th>\n",
       "      <td>658a306e99b40f103b63ccf8</td>\n",
       "      <td>2023-12-26 01:46:22.000 Z</td>\n",
       "      <td>NaN</td>\n",
       "      <td>NC</td>\n",
       "      <td>en</td>\n",
       "      <td>NaN</td>\n",
       "    </tr>\n",
       "    <tr>\n",
       "      <th>4</th>\n",
       "      <td>653cf5d6a225ea102b7ecdc2</td>\n",
       "      <td>2023-10-28 11:51:50.000 Z</td>\n",
       "      <td>1972-03-19 00:00:00.000 Z</td>\n",
       "      <td>PA</td>\n",
       "      <td>en</td>\n",
       "      <td>female</td>\n",
       "    </tr>\n",
       "  </tbody>\n",
       "</table>\n",
       "</div>"
      ],
      "text/plain": [
       "                         ID               CREATED_DATE  \\\n",
       "0  5ef3b4f17053ab141787697d  2020-06-24 20:17:54.000 Z   \n",
       "1  5ff220d383fcfc12622b96bc  2021-01-03 19:53:55.000 Z   \n",
       "2  6477950aa55bb77a0e27ee10  2023-05-31 18:42:18.000 Z   \n",
       "3  658a306e99b40f103b63ccf8  2023-12-26 01:46:22.000 Z   \n",
       "4  653cf5d6a225ea102b7ecdc2  2023-10-28 11:51:50.000 Z   \n",
       "\n",
       "                  BIRTH_DATE STATE LANGUAGE  GENDER  \n",
       "0  2000-08-11 00:00:00.000 Z    CA   es-419  female  \n",
       "1  2001-09-24 04:00:00.000 Z    PA       en  female  \n",
       "2  1994-10-28 00:00:00.000 Z    FL   es-419  female  \n",
       "3                        NaN    NC       en     NaN  \n",
       "4  1972-03-19 00:00:00.000 Z    PA       en  female  "
      ]
     },
     "execution_count": 1069,
     "metadata": {},
     "output_type": "execute_result"
    }
   ],
   "source": [
    "# Displaying the first 5 rows of the users df\n",
    "users_df.head(5)"
   ]
  },
  {
   "cell_type": "code",
   "execution_count": 1070,
   "metadata": {},
   "outputs": [
    {
     "name": "stdout",
     "output_type": "stream",
     "text": [
      "<class 'pandas.core.frame.DataFrame'>\n",
      "RangeIndex: 100000 entries, 0 to 99999\n",
      "Data columns (total 6 columns):\n",
      " #   Column        Non-Null Count   Dtype \n",
      "---  ------        --------------   ----- \n",
      " 0   ID            100000 non-null  object\n",
      " 1   CREATED_DATE  100000 non-null  object\n",
      " 2   BIRTH_DATE    96325 non-null   object\n",
      " 3   STATE         95188 non-null   object\n",
      " 4   LANGUAGE      69492 non-null   object\n",
      " 5   GENDER        94108 non-null   object\n",
      "dtypes: object(6)\n",
      "memory usage: 4.6+ MB\n"
     ]
    }
   ],
   "source": [
    "# Displaying information about the users df (column types and missing values)\n",
    "users_df.info()"
   ]
  },
  {
   "cell_type": "code",
   "execution_count": 1071,
   "metadata": {},
   "outputs": [],
   "source": [
    "# Converting to datetime, set errors to NaT\n",
    "users_df['BIRTH_DATE'] = pd.to_datetime(users_df['BIRTH_DATE'], errors='coerce')\n",
    "users_df['CREATED_DATE'] = pd.to_datetime(users_df['CREATED_DATE'], errors='coerce')"
   ]
  },
  {
   "cell_type": "code",
   "execution_count": 1072,
   "metadata": {},
   "outputs": [
    {
     "name": "stdout",
     "output_type": "stream",
     "text": [
      "ID                  0\n",
      "CREATED_DATE        0\n",
      "BIRTH_DATE       3675\n",
      "STATE            4812\n",
      "LANGUAGE        30508\n",
      "GENDER           5892\n",
      "dtype: int64\n"
     ]
    }
   ],
   "source": [
    "# Checking for missing values in the users df\n",
    "print(users_df.isnull().sum())"
   ]
  },
  {
   "cell_type": "code",
   "execution_count": 1073,
   "metadata": {},
   "outputs": [
    {
     "data": {
      "text/html": [
       "<div>\n",
       "<style scoped>\n",
       "    .dataframe tbody tr th:only-of-type {\n",
       "        vertical-align: middle;\n",
       "    }\n",
       "\n",
       "    .dataframe tbody tr th {\n",
       "        vertical-align: top;\n",
       "    }\n",
       "\n",
       "    .dataframe thead th {\n",
       "        text-align: right;\n",
       "    }\n",
       "</style>\n",
       "<table border=\"1\" class=\"dataframe\">\n",
       "  <thead>\n",
       "    <tr style=\"text-align: right;\">\n",
       "      <th></th>\n",
       "      <th>BIRTH_DATE</th>\n",
       "      <th>STATE</th>\n",
       "      <th>LANGUAGE</th>\n",
       "      <th>GENDER</th>\n",
       "    </tr>\n",
       "  </thead>\n",
       "  <tbody>\n",
       "    <tr>\n",
       "      <th>0</th>\n",
       "      <td>2000-08-11 00:00:00+00:00</td>\n",
       "      <td>CA</td>\n",
       "      <td>es-419</td>\n",
       "      <td>female</td>\n",
       "    </tr>\n",
       "    <tr>\n",
       "      <th>1</th>\n",
       "      <td>2001-09-24 04:00:00+00:00</td>\n",
       "      <td>PA</td>\n",
       "      <td>en</td>\n",
       "      <td>female</td>\n",
       "    </tr>\n",
       "    <tr>\n",
       "      <th>2</th>\n",
       "      <td>1994-10-28 00:00:00+00:00</td>\n",
       "      <td>FL</td>\n",
       "      <td>es-419</td>\n",
       "      <td>female</td>\n",
       "    </tr>\n",
       "    <tr>\n",
       "      <th>3</th>\n",
       "      <td>NaT</td>\n",
       "      <td>NC</td>\n",
       "      <td>en</td>\n",
       "      <td>NaN</td>\n",
       "    </tr>\n",
       "    <tr>\n",
       "      <th>4</th>\n",
       "      <td>1972-03-19 00:00:00+00:00</td>\n",
       "      <td>PA</td>\n",
       "      <td>en</td>\n",
       "      <td>female</td>\n",
       "    </tr>\n",
       "  </tbody>\n",
       "</table>\n",
       "</div>"
      ],
      "text/plain": [
       "                 BIRTH_DATE STATE LANGUAGE  GENDER\n",
       "0 2000-08-11 00:00:00+00:00    CA   es-419  female\n",
       "1 2001-09-24 04:00:00+00:00    PA       en  female\n",
       "2 1994-10-28 00:00:00+00:00    FL   es-419  female\n",
       "3                       NaT    NC       en     NaN\n",
       "4 1972-03-19 00:00:00+00:00    PA       en  female"
      ]
     },
     "execution_count": 1073,
     "metadata": {},
     "output_type": "execute_result"
    }
   ],
   "source": [
    "# Creating a new df with null values from users df\n",
    "users_null = user[['BIRTH_DATE', 'STATE', 'LANGUAGE', 'GENDER']]\n",
    "users_null.head()"
   ]
  },
  {
   "cell_type": "code",
   "execution_count": 1074,
   "metadata": {},
   "outputs": [
    {
     "data": {
      "image/png": "[encoded data removed]",
      "text/plain": [
       "<Figure size 432x288 with 1 Axes>"
      ]
     },
     "metadata": {
      "needs_background": "light"
     },
     "output_type": "display_data"
    }
   ],
   "source": [
    "# Plotting a bar chart of missing values\n",
    "users_null.isnull().sum().plot(kind = 'bar')\n",
    "plt.title('Missing Values in Columns')\n",
    "plt.xlabel('Column Names')\n",
    "plt.ylabel('Count of Missing Values')\n",
    "plt.xticks(rotation = 0)\n",
    "plt.show()"
   ]
  },
  {
   "cell_type": "code",
   "execution_count": 1075,
   "metadata": {},
   "outputs": [
    {
     "data": {
      "text/plain": [
       "ID              0\n",
       "CREATED_DATE    0\n",
       "BIRTH_DATE      0\n",
       "STATE           0\n",
       "LANGUAGE        0\n",
       "GENDER          0\n",
       "dtype: int64"
      ]
     },
     "execution_count": 1075,
     "metadata": {},
     "output_type": "execute_result"
    }
   ],
   "source": [
    "# Filling missing categorical values\n",
    "users_df.fillna({'STATE': 'Unknown', 'LANGUAGE': 'Unknown', 'GENDER': 'Unknown'}, inplace=True)\n",
    "# Filling Null birthdate values with 1800-01-01\n",
    "default_date = pd.Timestamp('1900-01-01', tz='UTC')\n",
    "users_df['BIRTH_DATE'] = users_df['BIRTH_DATE'].fillna(default_date)\n",
    "# Checking null values after filling/dropping null values\n",
    "users_df.isnull().sum()"
   ]
  },
  {
   "cell_type": "code",
   "execution_count": 1076,
   "metadata": {
    "scrolled": true
   },
   "outputs": [
    {
     "data": {
      "text/plain": [
       "array(['CA', 'PA', 'FL', 'NC', 'NY', 'IN', 'Unknown', 'OH', 'TX', 'NM',\n",
       "       'PR', 'CO', 'AZ', 'RI', 'MO', 'NJ', 'MA', 'TN', 'LA', 'NH', 'WI',\n",
       "       'IA', 'GA', 'VA', 'DC', 'KY', 'SC', 'MN', 'WV', 'DE', 'MI', 'IL',\n",
       "       'MS', 'WA', 'KS', 'CT', 'OR', 'UT', 'MD', 'OK', 'NE', 'NV', 'AL',\n",
       "       'AK', 'AR', 'HI', 'ME', 'ND', 'ID', 'WY', 'MT', 'SD', 'VT'],\n",
       "      dtype=object)"
      ]
     },
     "execution_count": 1076,
     "metadata": {},
     "output_type": "execute_result"
    }
   ],
   "source": [
    "# Checking unique values in the State column\n",
    "users_df['STATE'].unique()"
   ]
  },
  {
   "cell_type": "code",
   "execution_count": 1077,
   "metadata": {},
   "outputs": [
    {
     "data": {
      "text/plain": [
       "array(['es-419', 'en', 'Unknown'], dtype=object)"
      ]
     },
     "execution_count": 1077,
     "metadata": {},
     "output_type": "execute_result"
    }
   ],
   "source": [
    "# Checking unique values in the Language column\n",
    "users_df['LANGUAGE'].unique()"
   ]
  },
  {
   "cell_type": "code",
   "execution_count": 1078,
   "metadata": {},
   "outputs": [
    {
     "data": {
      "text/plain": [
       "array(['female', 'Unknown', 'male', 'non_binary', 'transgender',\n",
       "       'prefer_not_to_say', 'not_listed', 'Non-Binary', 'unknown',\n",
       "       'not_specified', \"My gender isn't listed\", 'Prefer not to say'],\n",
       "      dtype=object)"
      ]
     },
     "execution_count": 1078,
     "metadata": {},
     "output_type": "execute_result"
    }
   ],
   "source": [
    "# Checking unique values in the Gender column\n",
    "users_df['GENDER'].unique()"
   ]
  },
  {
   "cell_type": "code",
   "execution_count": 1079,
   "metadata": {},
   "outputs": [
    {
     "data": {
      "text/plain": [
       "array(['female', 'Unknown', 'male', 'non_binary', 'transgender',\n",
       "       'prefer_not_to_say', 'not_listed', 'non-binary', 'not_specified',\n",
       "       \"my gender isn't listed\", 'prefer not to say'], dtype=object)"
      ]
     },
     "execution_count": 1079,
     "metadata": {},
     "output_type": "execute_result"
    }
   ],
   "source": [
    "# Combining the 'unknown' and 'Unknown' values in the Gender column\n",
    "users_df['GENDER'] = users_df['GENDER'].str.lower().replace({'unknown': 'Unknown'})\n",
    "users_df['GENDER'].unique()"
   ]
  },
  {
   "cell_type": "code",
   "execution_count": 1080,
   "metadata": {},
   "outputs": [
    {
     "name": "stdout",
     "output_type": "stream",
     "text": [
      "No duplicates found in Users dataframe\n"
     ]
    }
   ],
   "source": [
    "# Checking for duplicates, if found, then dropped\n",
    "if users_df.duplicated().any():\n",
    "    print(f\"Duplicates found and removed from Users dataframe: {users_df.duplicated().sum()}\")\n",
    "    # Handle duplicates (keeping the first occurrence)\n",
    "    users_df.drop_duplicates(inplace=True)\n",
    "else:\n",
    "    print(\"No duplicates found in Users dataframe\")"
   ]
  },
  {
   "cell_type": "code",
   "execution_count": 1081,
   "metadata": {},
   "outputs": [
    {
     "name": "stdout",
     "output_type": "stream",
     "text": [
      "<class 'pandas.core.frame.DataFrame'>\n",
      "RangeIndex: 100000 entries, 0 to 99999\n",
      "Data columns (total 6 columns):\n",
      " #   Column        Non-Null Count   Dtype              \n",
      "---  ------        --------------   -----              \n",
      " 0   ID            100000 non-null  object             \n",
      " 1   CREATED_DATE  100000 non-null  datetime64[ns, UTC]\n",
      " 2   BIRTH_DATE    100000 non-null  datetime64[ns, UTC]\n",
      " 3   STATE         100000 non-null  object             \n",
      " 4   LANGUAGE      100000 non-null  object             \n",
      " 5   GENDER        100000 non-null  object             \n",
      "dtypes: datetime64[ns, UTC](2), object(4)\n",
      "memory usage: 4.6+ MB\n"
     ]
    }
   ],
   "source": [
    "# Final check\n",
    "users_df.info()"
   ]
  },
  {
   "cell_type": "code",
   "execution_count": 1082,
   "metadata": {},
   "outputs": [
    {
     "data": {
      "image/png": "[encoded data removed]",
      "text/plain": [
       "<Figure size 720x360 with 1 Axes>"
      ]
     },
     "metadata": {
      "needs_background": "light"
     },
     "output_type": "display_data"
    }
   ],
   "source": [
    "# Visualization for distribution of gender\n",
    "plt.figure(figsize=(10, 5))\n",
    "sns.countplot(y=users_df['GENDER'], order=users_df['GENDER'].value_counts().index)\n",
    "plt.title(\"Gender Distribution of Users\")\n",
    "plt.show()"
   ]
  },
  {
   "cell_type": "code",
   "execution_count": 1083,
   "metadata": {},
   "outputs": [
    {
     "data": {
      "image/png": "[encoded data removed]",
      "text/plain": [
       "<Figure size 720x360 with 1 Axes>"
      ]
     },
     "metadata": {
      "needs_background": "light"
     },
     "output_type": "display_data"
    }
   ],
   "source": [
    "# Visualization for distribution of Birth year\n",
    "plt.figure(figsize=(10, 5))\n",
    "sns.histplot(users_df['BIRTH_DATE'].dt.year, bins=50, kde=True)\n",
    "plt.title(\"Distribution of Birth Year\")\n",
    "plt.xlabel(\"Year\")\n",
    "plt.show()"
   ]
  },
  {
   "cell_type": "code",
   "execution_count": 1084,
   "metadata": {},
   "outputs": [
    {
     "data": {
      "image/png": "[encoded data removed]",
      "text/plain": [
       "<Figure size 720x360 with 1 Axes>"
      ]
     },
     "metadata": {
      "needs_background": "light"
     },
     "output_type": "display_data"
    }
   ],
   "source": [
    "# Visualization for distribution of age\n",
    "users_df['AGE'] = pd.to_datetime('today').year - users_df['BIRTH_DATE'].dt.year\n",
    "plt.figure(figsize=(10, 5))\n",
    "sns.histplot(users_df['AGE'], bins=30, kde=True)\n",
    "plt.title(\"Distribution of Users' Age\")\n",
    "plt.xlabel(\"Age\")\n",
    "plt.show()"
   ]
  },
  {
   "cell_type": "markdown",
   "metadata": {},
   "source": [
    "Users dataset has information about the users like the date of creation of account, their birth date, their state, language and gender. I first explored the data, then performed some data quality checks and then created some visualizations. \n",
    "\n",
    "Actions performed\n",
    "- Data type of 2 date columms, Created Date and Birth Date, was changed to datetime object\n",
    "- 4 Columns had missing/Null values, Birth Date, State, Language and Gender\n",
    "- Created a new dataframe for the columns with Null values\n",
    "- Visualized the Null values in the 4 columns\n",
    "- Since this is real world user data, I cannot delete values. So Null categorical values were replaced with 'Unknown'\n",
    "- For the Birth date column, Null values were replaced with 1800-01-01\n",
    "- Checked unique values in 3 categorical columns, State, Language and Gender\n",
    "- The Gender column already had 'unknown' value. Combined the new 'Unknown' value with old 'unknown' value\n",
    "- Checked for duplicates but none found\n",
    "- Visualized the gender distribution for all users\n",
    "- Visualized the ditribution of birth years of all users\n",
    "- Visualized the distribution of users' age as of today"
   ]
  },
  {
   "cell_type": "code",
   "execution_count": 1085,
   "metadata": {},
   "outputs": [
    {
     "data": {
      "text/html": [
       "<div>\n",
       "<style scoped>\n",
       "    .dataframe tbody tr th:only-of-type {\n",
       "        vertical-align: middle;\n",
       "    }\n",
       "\n",
       "    .dataframe tbody tr th {\n",
       "        vertical-align: top;\n",
       "    }\n",
       "\n",
       "    .dataframe thead th {\n",
       "        text-align: right;\n",
       "    }\n",
       "</style>\n",
       "<table border=\"1\" class=\"dataframe\">\n",
       "  <thead>\n",
       "    <tr style=\"text-align: right;\">\n",
       "      <th></th>\n",
       "      <th>RECEIPT_ID</th>\n",
       "      <th>PURCHASE_DATE</th>\n",
       "      <th>SCAN_DATE</th>\n",
       "      <th>STORE_NAME</th>\n",
       "      <th>USER_ID</th>\n",
       "      <th>BARCODE</th>\n",
       "      <th>FINAL_QUANTITY</th>\n",
       "      <th>FINAL_SALE</th>\n",
       "    </tr>\n",
       "  </thead>\n",
       "  <tbody>\n",
       "    <tr>\n",
       "      <th>0</th>\n",
       "      <td>0000d256-4041-4a3e-adc4-5623fb6e0c99</td>\n",
       "      <td>2024-08-21</td>\n",
       "      <td>2024-08-21 14:19:06.539 Z</td>\n",
       "      <td>WALMART</td>\n",
       "      <td>63b73a7f3d310dceeabd4758</td>\n",
       "      <td>1.530001e+10</td>\n",
       "      <td>1.00</td>\n",
       "      <td></td>\n",
       "    </tr>\n",
       "    <tr>\n",
       "      <th>1</th>\n",
       "      <td>0001455d-7a92-4a7b-a1d2-c747af1c8fd3</td>\n",
       "      <td>2024-07-20</td>\n",
       "      <td>2024-07-20 09:50:24.206 Z</td>\n",
       "      <td>ALDI</td>\n",
       "      <td>62c08877baa38d1a1f6c211a</td>\n",
       "      <td>NaN</td>\n",
       "      <td>zero</td>\n",
       "      <td>1.49</td>\n",
       "    </tr>\n",
       "    <tr>\n",
       "      <th>2</th>\n",
       "      <td>00017e0a-7851-42fb-bfab-0baa96e23586</td>\n",
       "      <td>2024-08-18</td>\n",
       "      <td>2024-08-19 15:38:56.813 Z</td>\n",
       "      <td>WALMART</td>\n",
       "      <td>60842f207ac8b7729e472020</td>\n",
       "      <td>7.874223e+10</td>\n",
       "      <td>1.00</td>\n",
       "      <td></td>\n",
       "    </tr>\n",
       "    <tr>\n",
       "      <th>3</th>\n",
       "      <td>000239aa-3478-453d-801e-66a82e39c8af</td>\n",
       "      <td>2024-06-18</td>\n",
       "      <td>2024-06-19 11:03:37.468 Z</td>\n",
       "      <td>FOOD LION</td>\n",
       "      <td>63fcd7cea4f8442c3386b589</td>\n",
       "      <td>7.833997e+11</td>\n",
       "      <td>zero</td>\n",
       "      <td>3.49</td>\n",
       "    </tr>\n",
       "    <tr>\n",
       "      <th>4</th>\n",
       "      <td>00026b4c-dfe8-49dd-b026-4c2f0fd5c6a1</td>\n",
       "      <td>2024-07-04</td>\n",
       "      <td>2024-07-05 15:56:43.549 Z</td>\n",
       "      <td>RANDALLS</td>\n",
       "      <td>6193231ae9b3d75037b0f928</td>\n",
       "      <td>4.790050e+10</td>\n",
       "      <td>1.00</td>\n",
       "      <td></td>\n",
       "    </tr>\n",
       "  </tbody>\n",
       "</table>\n",
       "</div>"
      ],
      "text/plain": [
       "                             RECEIPT_ID PURCHASE_DATE  \\\n",
       "0  0000d256-4041-4a3e-adc4-5623fb6e0c99    2024-08-21   \n",
       "1  0001455d-7a92-4a7b-a1d2-c747af1c8fd3    2024-07-20   \n",
       "2  00017e0a-7851-42fb-bfab-0baa96e23586    2024-08-18   \n",
       "3  000239aa-3478-453d-801e-66a82e39c8af    2024-06-18   \n",
       "4  00026b4c-dfe8-49dd-b026-4c2f0fd5c6a1    2024-07-04   \n",
       "\n",
       "                   SCAN_DATE STORE_NAME                   USER_ID  \\\n",
       "0  2024-08-21 14:19:06.539 Z    WALMART  63b73a7f3d310dceeabd4758   \n",
       "1  2024-07-20 09:50:24.206 Z       ALDI  62c08877baa38d1a1f6c211a   \n",
       "2  2024-08-19 15:38:56.813 Z    WALMART  60842f207ac8b7729e472020   \n",
       "3  2024-06-19 11:03:37.468 Z  FOOD LION  63fcd7cea4f8442c3386b589   \n",
       "4  2024-07-05 15:56:43.549 Z   RANDALLS  6193231ae9b3d75037b0f928   \n",
       "\n",
       "        BARCODE FINAL_QUANTITY FINAL_SALE  \n",
       "0  1.530001e+10           1.00             \n",
       "1           NaN           zero       1.49  \n",
       "2  7.874223e+10           1.00             \n",
       "3  7.833997e+11           zero       3.49  \n",
       "4  4.790050e+10           1.00             "
      ]
     },
     "execution_count": 1085,
     "metadata": {},
     "output_type": "execute_result"
    }
   ],
   "source": [
    "transactions_df.head(5)"
   ]
  },
  {
   "cell_type": "code",
   "execution_count": 1086,
   "metadata": {},
   "outputs": [
    {
     "name": "stdout",
     "output_type": "stream",
     "text": [
      "<class 'pandas.core.frame.DataFrame'>\n",
      "RangeIndex: 50000 entries, 0 to 49999\n",
      "Data columns (total 8 columns):\n",
      " #   Column          Non-Null Count  Dtype  \n",
      "---  ------          --------------  -----  \n",
      " 0   RECEIPT_ID      50000 non-null  object \n",
      " 1   PURCHASE_DATE   50000 non-null  object \n",
      " 2   SCAN_DATE       50000 non-null  object \n",
      " 3   STORE_NAME      50000 non-null  object \n",
      " 4   USER_ID         50000 non-null  object \n",
      " 5   BARCODE         44238 non-null  float64\n",
      " 6   FINAL_QUANTITY  50000 non-null  object \n",
      " 7   FINAL_SALE      50000 non-null  object \n",
      "dtypes: float64(1), object(7)\n",
      "memory usage: 3.1+ MB\n"
     ]
    }
   ],
   "source": [
    "transactions_df.info()"
   ]
  },
  {
   "cell_type": "code",
   "execution_count": 1087,
   "metadata": {},
   "outputs": [],
   "source": [
    "# Converting to datetime\n",
    "transactions_df['PURCHASE_DATE'] = pd.to_datetime(transactions_df['PURCHASE_DATE'], errors='coerce')\n",
    "transactions_df['SCAN_DATE'] = pd.to_datetime(transactions_df['SCAN_DATE'], errors='coerce')\n",
    "# Converting to numeric\n",
    "transactions_df['FINAL_QUANTITY'] = pd.to_numeric(transactions_df['FINAL_QUANTITY'], errors='coerce')\n",
    "transactions_df['FINAL_SALE'] = pd.to_numeric(transactions_df['FINAL_SALE'], errors='coerce')"
   ]
  },
  {
   "cell_type": "code",
   "execution_count": 1088,
   "metadata": {},
   "outputs": [
    {
     "data": {
      "text/plain": [
       "RECEIPT_ID            0\n",
       "PURCHASE_DATE         0\n",
       "SCAN_DATE             0\n",
       "STORE_NAME            0\n",
       "USER_ID               0\n",
       "BARCODE            5762\n",
       "FINAL_QUANTITY    12500\n",
       "FINAL_SALE        12500\n",
       "dtype: int64"
      ]
     },
     "execution_count": 1088,
     "metadata": {},
     "output_type": "execute_result"
    }
   ],
   "source": [
    "# Finding null values\n",
    "transactions_df.isnull().sum()"
   ]
  },
  {
   "cell_type": "code",
   "execution_count": 1089,
   "metadata": {},
   "outputs": [
    {
     "data": {
      "text/plain": [
       "array([1.53000150e+10,            nan, 7.87422298e+10, ...,\n",
       "       4.11960101e+10, 7.94004454e+10, 7.43230958e+10])"
      ]
     },
     "execution_count": 1089,
     "metadata": {},
     "output_type": "execute_result"
    }
   ],
   "source": [
    "transactions_df['BARCODE'].unique()"
   ]
  },
  {
   "cell_type": "code",
   "execution_count": 1090,
   "metadata": {},
   "outputs": [
    {
     "data": {
      "text/plain": [
       "array([1.00e+00,      nan, 2.00e+00, 3.00e+00, 4.00e+00, 4.55e+00,\n",
       "       2.83e+00, 2.34e+00, 4.60e-01, 7.00e+00, 1.80e+01, 1.20e+01,\n",
       "       5.00e+00, 2.17e+00, 2.30e-01, 8.00e+00, 1.35e+00, 9.00e-02,\n",
       "       2.58e+00, 1.47e+00, 1.60e+01, 6.20e-01, 1.24e+00, 1.40e+00,\n",
       "       5.10e-01, 5.30e-01, 1.69e+00, 6.00e+00, 2.39e+00, 2.60e+00,\n",
       "       1.00e+01, 8.60e-01, 1.54e+00, 1.88e+00, 2.93e+00, 1.28e+00,\n",
       "       6.50e-01, 2.89e+00, 1.44e+00, 2.75e+00, 1.81e+00, 2.76e+02,\n",
       "       8.70e-01, 2.10e+00, 3.33e+00, 2.54e+00, 2.20e+00, 1.93e+00,\n",
       "       1.34e+00, 1.13e+00, 2.19e+00, 8.30e-01, 2.61e+00, 2.80e-01,\n",
       "       1.50e+00, 9.70e-01, 2.40e-01, 1.18e+00, 6.22e+00, 1.22e+00,\n",
       "       1.23e+00, 2.57e+00, 1.07e+00, 2.11e+00, 4.80e-01, 9.00e+00,\n",
       "       3.11e+00, 1.08e+00, 5.53e+00, 1.89e+00, 1.00e-02, 2.18e+00,\n",
       "       1.99e+00, 4.00e-02, 2.25e+00, 1.37e+00, 3.02e+00, 3.50e-01,\n",
       "       9.90e-01, 1.80e+00, 3.24e+00, 9.40e-01, 2.04e+00, 3.69e+00,\n",
       "       7.00e-01, 2.52e+00, 2.27e+00])"
      ]
     },
     "execution_count": 1090,
     "metadata": {},
     "output_type": "execute_result"
    }
   ],
   "source": [
    "transactions_df['FINAL_QUANTITY'].unique()"
   ]
  },
  {
   "cell_type": "code",
   "execution_count": 1091,
   "metadata": {},
   "outputs": [
    {
     "data": {
      "text/plain": [
       "array([  nan,  1.49,  3.49, ..., 11.02, 20.17, 42.38])"
      ]
     },
     "execution_count": 1091,
     "metadata": {},
     "output_type": "execute_result"
    }
   ],
   "source": [
    "transactions_df['FINAL_SALE'].unique()"
   ]
  },
  {
   "cell_type": "code",
   "execution_count": 1092,
   "metadata": {},
   "outputs": [
    {
     "data": {
      "text/plain": [
       "RECEIPT_ID        0\n",
       "PURCHASE_DATE     0\n",
       "SCAN_DATE         0\n",
       "STORE_NAME        0\n",
       "USER_ID           0\n",
       "BARCODE           0\n",
       "FINAL_QUANTITY    0\n",
       "FINAL_SALE        0\n",
       "dtype: int64"
      ]
     },
     "execution_count": 1092,
     "metadata": {},
     "output_type": "execute_result"
    }
   ],
   "source": [
    "transactions_df.fillna({'FINAL_QUANTITY': 0, 'FINAL_SALE': 0, 'BARCODE': 0}, inplace=True)\n",
    "transactions_df.isnull().sum()"
   ]
  },
  {
   "cell_type": "code",
   "execution_count": 1093,
   "metadata": {},
   "outputs": [
    {
     "name": "stdout",
     "output_type": "stream",
     "text": [
      "Duplicates found and removed from Transactions dataframe: 335\n"
     ]
    }
   ],
   "source": [
    "# Checking for duplicates, if found, then dropped\n",
    "if transactions_df.duplicated().any():\n",
    "    print(f\"Duplicates found and removed from Transactions dataframe: {transactions_df.duplicated().sum()}\")\n",
    "    transactions_df.drop_duplicates(inplace=True)\n",
    "else:\n",
    "    print(\"No duplicates found in Transactions dataframe\")"
   ]
  },
  {
   "cell_type": "code",
   "execution_count": 1094,
   "metadata": {},
   "outputs": [
    {
     "name": "stdout",
     "output_type": "stream",
     "text": [
      "<class 'pandas.core.frame.DataFrame'>\n",
      "Int64Index: 49665 entries, 0 to 49999\n",
      "Data columns (total 8 columns):\n",
      " #   Column          Non-Null Count  Dtype              \n",
      "---  ------          --------------  -----              \n",
      " 0   RECEIPT_ID      49665 non-null  object             \n",
      " 1   PURCHASE_DATE   49665 non-null  datetime64[ns]     \n",
      " 2   SCAN_DATE       49665 non-null  datetime64[ns, UTC]\n",
      " 3   STORE_NAME      49665 non-null  object             \n",
      " 4   USER_ID         49665 non-null  object             \n",
      " 5   BARCODE         49665 non-null  float64            \n",
      " 6   FINAL_QUANTITY  49665 non-null  float64            \n",
      " 7   FINAL_SALE      49665 non-null  float64            \n",
      "dtypes: datetime64[ns, UTC](1), datetime64[ns](1), float64(3), object(3)\n",
      "memory usage: 3.4+ MB\n"
     ]
    }
   ],
   "source": [
    "transactions_df.info()"
   ]
  },
  {
   "cell_type": "code",
   "execution_count": 1095,
   "metadata": {},
   "outputs": [
    {
     "data": {
      "image/png": "[encoded data removed]",
      "text/plain": [
       "<Figure size 720x360 with 1 Axes>"
      ]
     },
     "metadata": {
      "needs_background": "light"
     },
     "output_type": "display_data"
    }
   ],
   "source": [
    "# Visualization for distribution of purchase dates\n",
    "plt.figure(figsize=(10, 5))\n",
    "sns.histplot(transactions_df['PURCHASE_DATE'].dt.date, bins=50)\n",
    "plt.title(\"Distribution of Purchase Dates\")\n",
    "plt.xlabel(\"Purchase Date\")\n",
    "plt.show()"
   ]
  },
  {
   "cell_type": "code",
   "execution_count": 1096,
   "metadata": {},
   "outputs": [
    {
     "data": {
      "image/png": "[encoded data removed]",
      "text/plain": [
       "<Figure size 864x432 with 1 Axes>"
      ]
     },
     "metadata": {
      "needs_background": "light"
     },
     "output_type": "display_data"
    }
   ],
   "source": [
    "# Visualizing final sales by purchase date\n",
    "sales_purchase_date = transactions_df.groupby('PURCHASE_DATE')['FINAL_SALE']\\\n",
    "                      .sum().reset_index().sort_values(by = 'FINAL_SALE', ascending = False)\n",
    "\n",
    "plt.figure(figsize=(12, 6))\n",
    "sns.barplot(x='PURCHASE_DATE', y='FINAL_SALE', data=sales_purchase_date.head(10))\n",
    "plt.title(\"Sales by Purchase Date\")\n",
    "plt.xlabel(\"Purchase Date\")\n",
    "plt.ylabel(\"Final Sales\")\n",
    "plt.xticks(rotation=90)\n",
    "plt.show()"
   ]
  },
  {
   "cell_type": "code",
   "execution_count": 1097,
   "metadata": {},
   "outputs": [
    {
     "data": {
      "image/png": "[encoded data removed]",
      "text/plain": [
       "<Figure size 864x432 with 1 Axes>"
      ]
     },
     "metadata": {
      "needs_background": "light"
     },
     "output_type": "display_data"
    }
   ],
   "source": [
    "# Visualizing final sales by store name\n",
    "sales_purchase_store = transactions_df.groupby('STORE_NAME')['FINAL_SALE']\\\n",
    "                      .sum().reset_index().sort_values(by = 'FINAL_SALE', ascending = False)\n",
    "\n",
    "plt.figure(figsize=(12, 6))\n",
    "sns.barplot(x='STORE_NAME', y='FINAL_SALE', data=sales_purchase_store.head(10))\n",
    "plt.title(\"Sales by Store Name\")\n",
    "plt.xlabel(\"Store Name\")\n",
    "plt.ylabel(\"Final Sales\")\n",
    "plt.xticks(rotation=90)\n",
    "plt.show()"
   ]
  },
  {
   "cell_type": "markdown",
   "metadata": {},
   "source": [
    "Transactions dataset has information about the transactions done by the users, like the date of purchase, the scanning date (assuming thats rewards scan), the store the transaction was made on, quantity of units purchased and final sale amount. I first explored the data, then performed some data quality checks and then created some visualizations. \n",
    "\n",
    "Actions performed\n",
    "- Data type of 2 date columms, Purchase Date and Scan Date, was changed to datetime object\n",
    "- Data type of 2 numerical columms, Final Quantity and Final Sale, was changed to numeric object\n",
    "- 3 Columns had missing/Null values, Barcode, Final Quantity and Final sale\n",
    "- Checked unique values in the 3 columns with Null values\n",
    "- Since this is real world user data, I cannot delete values.So for all 3 columns, data with null values were replaced with 0\n",
    "- Checked for duplicates and removed 335 duplicates\n",
    "- Visualized the distribution of purchase dates\n",
    "- Visualized the final sales with purchase dates\n",
    "- Visualized the sales with store name"
   ]
  },
  {
   "cell_type": "code",
   "execution_count": 1098,
   "metadata": {},
   "outputs": [
    {
     "data": {
      "text/html": [
       "<div>\n",
       "<style scoped>\n",
       "    .dataframe tbody tr th:only-of-type {\n",
       "        vertical-align: middle;\n",
       "    }\n",
       "\n",
       "    .dataframe tbody tr th {\n",
       "        vertical-align: top;\n",
       "    }\n",
       "\n",
       "    .dataframe thead th {\n",
       "        text-align: right;\n",
       "    }\n",
       "</style>\n",
       "<table border=\"1\" class=\"dataframe\">\n",
       "  <thead>\n",
       "    <tr style=\"text-align: right;\">\n",
       "      <th></th>\n",
       "      <th>CATEGORY_1</th>\n",
       "      <th>CATEGORY_2</th>\n",
       "      <th>CATEGORY_3</th>\n",
       "      <th>CATEGORY_4</th>\n",
       "      <th>MANUFACTURER</th>\n",
       "      <th>BRAND</th>\n",
       "      <th>BARCODE</th>\n",
       "    </tr>\n",
       "  </thead>\n",
       "  <tbody>\n",
       "    <tr>\n",
       "      <th>0</th>\n",
       "      <td>Health &amp; Wellness</td>\n",
       "      <td>Sexual Health</td>\n",
       "      <td>Conductivity Gels &amp; Lotions</td>\n",
       "      <td>NaN</td>\n",
       "      <td>NaN</td>\n",
       "      <td>NaN</td>\n",
       "      <td>7.964944e+11</td>\n",
       "    </tr>\n",
       "    <tr>\n",
       "      <th>1</th>\n",
       "      <td>Snacks</td>\n",
       "      <td>Puffed Snacks</td>\n",
       "      <td>Cheese Curls &amp; Puffs</td>\n",
       "      <td>NaN</td>\n",
       "      <td>NaN</td>\n",
       "      <td>NaN</td>\n",
       "      <td>2.327801e+10</td>\n",
       "    </tr>\n",
       "    <tr>\n",
       "      <th>2</th>\n",
       "      <td>Health &amp; Wellness</td>\n",
       "      <td>Hair Care</td>\n",
       "      <td>Hair Care Accessories</td>\n",
       "      <td>NaN</td>\n",
       "      <td>PLACEHOLDER MANUFACTURER</td>\n",
       "      <td>ELECSOP</td>\n",
       "      <td>4.618178e+11</td>\n",
       "    </tr>\n",
       "    <tr>\n",
       "      <th>3</th>\n",
       "      <td>Health &amp; Wellness</td>\n",
       "      <td>Oral Care</td>\n",
       "      <td>Toothpaste</td>\n",
       "      <td>NaN</td>\n",
       "      <td>COLGATE-PALMOLIVE</td>\n",
       "      <td>COLGATE</td>\n",
       "      <td>3.500047e+10</td>\n",
       "    </tr>\n",
       "    <tr>\n",
       "      <th>4</th>\n",
       "      <td>Health &amp; Wellness</td>\n",
       "      <td>Medicines &amp; Treatments</td>\n",
       "      <td>Essential Oils</td>\n",
       "      <td>NaN</td>\n",
       "      <td>MAPLE HOLISTICS AND HONEYDEW PRODUCTS INTERCHA...</td>\n",
       "      <td>MAPLE HOLISTICS</td>\n",
       "      <td>8.068109e+11</td>\n",
       "    </tr>\n",
       "  </tbody>\n",
       "</table>\n",
       "</div>"
      ],
      "text/plain": [
       "          CATEGORY_1              CATEGORY_2                   CATEGORY_3  \\\n",
       "0  Health & Wellness           Sexual Health  Conductivity Gels & Lotions   \n",
       "1             Snacks           Puffed Snacks         Cheese Curls & Puffs   \n",
       "2  Health & Wellness               Hair Care        Hair Care Accessories   \n",
       "3  Health & Wellness               Oral Care                   Toothpaste   \n",
       "4  Health & Wellness  Medicines & Treatments               Essential Oils   \n",
       "\n",
       "  CATEGORY_4                                       MANUFACTURER  \\\n",
       "0        NaN                                                NaN   \n",
       "1        NaN                                                NaN   \n",
       "2        NaN                           PLACEHOLDER MANUFACTURER   \n",
       "3        NaN                                  COLGATE-PALMOLIVE   \n",
       "4        NaN  MAPLE HOLISTICS AND HONEYDEW PRODUCTS INTERCHA...   \n",
       "\n",
       "             BRAND       BARCODE  \n",
       "0              NaN  7.964944e+11  \n",
       "1              NaN  2.327801e+10  \n",
       "2          ELECSOP  4.618178e+11  \n",
       "3          COLGATE  3.500047e+10  \n",
       "4  MAPLE HOLISTICS  8.068109e+11  "
      ]
     },
     "execution_count": 1098,
     "metadata": {},
     "output_type": "execute_result"
    }
   ],
   "source": [
    "products_df.head(5)"
   ]
  },
  {
   "cell_type": "code",
   "execution_count": 1099,
   "metadata": {},
   "outputs": [
    {
     "name": "stdout",
     "output_type": "stream",
     "text": [
      "<class 'pandas.core.frame.DataFrame'>\n",
      "RangeIndex: 845552 entries, 0 to 845551\n",
      "Data columns (total 7 columns):\n",
      " #   Column        Non-Null Count   Dtype  \n",
      "---  ------        --------------   -----  \n",
      " 0   CATEGORY_1    845441 non-null  object \n",
      " 1   CATEGORY_2    844128 non-null  object \n",
      " 2   CATEGORY_3    784986 non-null  object \n",
      " 3   CATEGORY_4    67459 non-null   object \n",
      " 4   MANUFACTURER  619078 non-null  object \n",
      " 5   BRAND         619080 non-null  object \n",
      " 6   BARCODE       841527 non-null  float64\n",
      "dtypes: float64(1), object(6)\n",
      "memory usage: 45.2+ MB\n"
     ]
    }
   ],
   "source": [
    "products_df.info()"
   ]
  },
  {
   "cell_type": "code",
   "execution_count": 1100,
   "metadata": {},
   "outputs": [
    {
     "data": {
      "text/plain": [
       "CATEGORY_1         111\n",
       "CATEGORY_2        1424\n",
       "CATEGORY_3       60566\n",
       "CATEGORY_4      778093\n",
       "MANUFACTURER    226474\n",
       "BRAND           226472\n",
       "BARCODE           4025\n",
       "dtype: int64"
      ]
     },
     "execution_count": 1100,
     "metadata": {},
     "output_type": "execute_result"
    }
   ],
   "source": [
    "# Finding null values\n",
    "products_df.isnull().sum()"
   ]
  },
  {
   "cell_type": "code",
   "execution_count": 1101,
   "metadata": {},
   "outputs": [],
   "source": [
    "# Filling missing values\n",
    "products_df.fillna({'CATEGORY_1': 'Unknown', 'CATEGORY_2': 'Unknown', 'CATEGORY_3': 'Unknown', 'CATEGORY_4': 'Unknown',\n",
    "                     'MANUFACTURER': 'Unknown', 'BRAND': 'Unknown', 'BARCODE': 0}, inplace=True)  "
   ]
  },
  {
   "cell_type": "code",
   "execution_count": 1102,
   "metadata": {},
   "outputs": [
    {
     "data": {
      "text/plain": [
       "array(['Health & Wellness', 'Snacks', 'Beverages', 'Pantry', 'Alcohol',\n",
       "       'Apparel & Accessories', 'Restaurant', 'Needs Review', 'Dairy',\n",
       "       'Home & Garden', 'Unknown', 'Household Supplies', 'Meat & Seafood',\n",
       "       'Deli & Bakery', 'Sporting Goods', 'Produce', 'Office & School',\n",
       "       'Frozen', 'Arts & Entertainment', 'Animals & Pet Supplies',\n",
       "       'Electronics', 'Beauty', 'Toys & Games', 'Mature',\n",
       "       'Vehicles & Parts', 'Baby & Toddler', 'Luggage & Bags', 'Media'],\n",
       "      dtype=object)"
      ]
     },
     "execution_count": 1102,
     "metadata": {},
     "output_type": "execute_result"
    }
   ],
   "source": [
    "# Checking unique values in Category 1\n",
    "products_df['CATEGORY_1'].unique()"
   ]
  },
  {
   "cell_type": "code",
   "execution_count": 1103,
   "metadata": {},
   "outputs": [
    {
     "data": {
      "text/plain": [
       "array(['Unknown', 'PLACEHOLDER MANUFACTURER', 'COLGATE-PALMOLIVE', ...,\n",
       "       'VIDETTE INC', 'SCRUB-IT', 'OUTDOOR PRODUCT INNOVATIONS, INC.'],\n",
       "      dtype=object)"
      ]
     },
     "execution_count": 1103,
     "metadata": {},
     "output_type": "execute_result"
    }
   ],
   "source": [
    "# Checking unique values in Manufacturer\n",
    "products_df['MANUFACTURER'].unique()"
   ]
  },
  {
   "cell_type": "code",
   "execution_count": 1104,
   "metadata": {},
   "outputs": [
    {
     "data": {
      "text/plain": [
       "array(['Unknown', 'ELECSOP', 'COLGATE', ..., 'SHULEMIN', 'RHINO BLINDS',\n",
       "       'GATEWAY'], dtype=object)"
      ]
     },
     "execution_count": 1104,
     "metadata": {},
     "output_type": "execute_result"
    }
   ],
   "source": [
    "# Checking unique values in Brand\n",
    "products_df['BRAND'].unique()"
   ]
  },
  {
   "cell_type": "code",
   "execution_count": 1105,
   "metadata": {},
   "outputs": [
    {
     "data": {
      "text/plain": [
       "CATEGORY_1      0\n",
       "CATEGORY_2      0\n",
       "CATEGORY_3      0\n",
       "CATEGORY_4      0\n",
       "MANUFACTURER    0\n",
       "BRAND           0\n",
       "BARCODE         0\n",
       "dtype: int64"
      ]
     },
     "execution_count": 1105,
     "metadata": {},
     "output_type": "execute_result"
    }
   ],
   "source": [
    "# Final check for null values\n",
    "products_df.isnull().sum()"
   ]
  },
  {
   "cell_type": "code",
   "execution_count": 1106,
   "metadata": {},
   "outputs": [
    {
     "name": "stdout",
     "output_type": "stream",
     "text": [
      "Duplicates found and removed from Products dataframe: 215\n"
     ]
    }
   ],
   "source": [
    "# Handling duplicates\n",
    "if products_df.duplicated().any():\n",
    "    print(f\"Duplicates found and removed from Products dataframe: {products_df.duplicated().sum()}\")\n",
    "    products_df.drop_duplicates(inplace=True)\n",
    "else:\n",
    "    print(\"No duplicates found in Products dataframe\")"
   ]
  },
  {
   "cell_type": "code",
   "execution_count": 1107,
   "metadata": {},
   "outputs": [
    {
     "data": {
      "image/png": "[encoded data removed]",
      "text/plain": [
       "<Figure size 864x432 with 1 Axes>"
      ]
     },
     "metadata": {
      "needs_background": "light"
     },
     "output_type": "display_data"
    }
   ],
   "source": [
    "# Visualizing distribution of top 10 categories in Category 1\n",
    "top10_category1 = products_df['CATEGORY_1'].value_counts().nlargest(10).index\n",
    "plt.figure(figsize=(12, 6))\n",
    "sns.countplot(y=products_df['CATEGORY_1'], order=top10_category1)\n",
    "plt.title(\"Top 10 Category 1 Distribution\")\n",
    "plt.show()"
   ]
  },
  {
   "cell_type": "code",
   "execution_count": 1108,
   "metadata": {},
   "outputs": [
    {
     "data": {
      "image/png": "[encoded data removed]",
      "text/plain": [
       "<Figure size 864x432 with 1 Axes>"
      ]
     },
     "metadata": {
      "needs_background": "light"
     },
     "output_type": "display_data"
    }
   ],
   "source": [
    "# Visualizing distribution of top 20 categories in Category 2\n",
    "top20_category2 = products_df['CATEGORY_2'].value_counts().nlargest(20).index\n",
    "plt.figure(figsize=(12, 6))\n",
    "sns.countplot(y=products_df['CATEGORY_2'], order=top20_category2)\n",
    "plt.title(\"Top 20 Category 2 Distribution\")\n",
    "plt.show()"
   ]
  },
  {
   "cell_type": "code",
   "execution_count": 1109,
   "metadata": {},
   "outputs": [
    {
     "data": {
      "image/png": "[encoded data removed]",
      "text/plain": [
       "<Figure size 864x432 with 1 Axes>"
      ]
     },
     "metadata": {
      "needs_background": "light"
     },
     "output_type": "display_data"
    }
   ],
   "source": [
    "# Visualizing distribution of top 10 categories in Category 3\n",
    "top10_category3 = products_df['CATEGORY_3'].value_counts().nlargest(10).index\n",
    "plt.figure(figsize=(12, 6))\n",
    "sns.countplot(y=products_df['CATEGORY_3'], order=top10_category3)\n",
    "plt.title(\"Top 10 Category 3 Distribution\")\n",
    "plt.show()"
   ]
  },
  {
   "cell_type": "markdown",
   "metadata": {},
   "source": [
    "Products dataset has information about the available products, like the products categories, manufacturer, brand and barcode. I first explored the data, then performed some data quality checks and then created some visualizations. \n",
    "\n",
    "Steps performed\n",
    "- All columns except Barcode are categorical\n",
    "- All 7 Columns had missing/Null values\n",
    "- Since this is real world user data, I cannot delete values. So Null values in barcode column were replaced with 0 and all other columns' null values were replaced with 'Unknown'\n",
    "- Checked unique values in the 3 columns, Category 1, Manufacturer and Brand\n",
    "- Checked for duplicates and removed 215 duplicates\n",
    "- Visualized the distribution of top 10 categories in Category 1\n",
    "- Visualized the distribution of top 20 categories in Category 2\n",
    "- Visualized the distribution of top 10 categories in Category 3"
   ]
  },
  {
   "cell_type": "markdown",
   "metadata": {},
   "source": [
    "### Business Questions\n",
    "\n",
    "What are the top 5 brands by receipts scanned among users 21 and over?\n",
    "What are the top 5 brands by sales among users that have had their account for at least six months?\n",
    "Who are Fetch's power users?\n",
    "Which is the leading brand in the Dips & Salsa category?"
   ]
  },
  {
   "cell_type": "code",
   "execution_count": 1110,
   "metadata": {},
   "outputs": [
    {
     "data": {
      "image/png": "[encoded data removed]",
      "text/plain": [
       "<Figure size 720x432 with 1 Axes>"
      ]
     },
     "metadata": {
      "needs_background": "light"
     },
     "output_type": "display_data"
    }
   ],
   "source": [
    "# Top 5 brands by receipts scanned among users 21 and over\n",
    "\n",
    "# Filtering users who are 21 or older\n",
    "users_21plus = users_df[users_df['AGE'] >= 21]\n",
    "\n",
    "# Merging transactions with user data\n",
    "transactions_21plus = pd.merge(transactions_df, users_21plus[['ID']], left_on='USER_ID', right_on='ID')\n",
    "# Merging with product data to get brand information\n",
    "transactions_withbrands = pd.merge(transactions_21plus, products_df[['BARCODE', 'BRAND']], on='BARCODE', how='left')\n",
    "\n",
    "# Removing 'Unknown' brands\n",
    "transactions_withbrands = transactions_withbrands[transactions_withbrands['BRAND'] != 'Unknown']\n",
    "\n",
    "# Counting unique receipts by brand\n",
    "brand_receipts = transactions_withbrands.groupby('BRAND')['RECEIPT_ID'].nunique().reset_index()\n",
    "\n",
    "# Sorting by receipts scanned and getting top 5 brands\n",
    "top_5_brands = brand_receipts.sort_values(by='RECEIPT_ID', ascending=False).head(5)\n",
    "\n",
    "# Visualizing the results\n",
    "plt.figure(figsize=(10, 6))\n",
    "sns.barplot(x='BRAND', y='RECEIPT_ID', data=top_5_brands)\n",
    "plt.xticks(rotation=45)\n",
    "plt.title(\"Top 5 Brands by Receipts Scanned Among Users 21 and Over\")\n",
    "plt.xlabel(\"Brand\")\n",
    "plt.ylabel(\"Receipts Scanned Count\")\n",
    "plt.show()"
   ]
  },
  {
   "cell_type": "code",
   "execution_count": 1111,
   "metadata": {},
   "outputs": [
    {
     "data": {
      "image/png": "[encoded data removed]",
      "text/plain": [
       "<Figure size 720x432 with 1 Axes>"
      ]
     },
     "metadata": {
      "needs_background": "light"
     },
     "output_type": "display_data"
    }
   ],
   "source": [
    "# Top 5 brands by sales among users that have had their account for at least six months\n",
    "\n",
    "# Filtering users who have had an account for at least 6 months\n",
    "users_six_months = users_df[pd.to_datetime('today') - users_df['CREATED_DATE'].dt\n",
    "                            .tz_localize(None) >= pd.Timedelta(days=180)]\n",
    "\n",
    "# Merging transactions with users and products to get brand information\n",
    "top_brands_sales = transactions_df[transactions_df['USER_ID'].isin(users_six_months['ID'])]\n",
    "top_brands_sales = top_brands_sales.merge(products_df, on='BARCODE')\n",
    "\n",
    "# Excluding 'Unknown' Brands\n",
    "top_brands_sales = top_brands_receipts[top_brands_receipts['BRAND'] != 'Unknown']\n",
    "\n",
    "# Aggregating sales by brand\n",
    "top_5_brands_sales = top_brands_sales.groupby('BRAND')['FINAL_SALE'].sum().sort_values(ascending=False).head(5)\n",
    "\n",
    "# Visualizing Top 5 Brands by Sales\n",
    "plt.figure(figsize=(10, 6))\n",
    "sns.barplot(x=top_5_brands_sales.index, y=top_5_brands_sales.values)\n",
    "plt.title(\"Top 5 Brands by Sales Among Users with Account for at Least 6 Months\")\n",
    "plt.xticks(rotation=45)\n",
    "plt.xlabel(\"Brand\")\n",
    "plt.ylabel(\"Total Sales\")\n",
    "plt.show()"
   ]
  },
  {
   "cell_type": "markdown",
   "metadata": {},
   "source": [
    "### Power Users\n",
    "\n",
    "According to my definition, power users are customers who are the most engaged and spend the most on the platform. To define them, I look at a few key factors:\n",
    "- They're in the top 15% of spenders based on total spending.\n",
    "- They're in the top 10% for the number of receipts scanned.\n",
    "- They've had an active account for at least six months.\n",
    "These thresholds can be adjusted as business needs change. We might also want to expand the criteria to include things like consistent scanning behavior over time or other engagement metrics that give us a fuller picture of user loyalty and activity.\n",
    "\n",
    "#### Assumptions\n",
    "\n",
    "- I define engagement as spending and scanning receipts. I assume that users who spend more and scan more receipts are strong candidates for power users. In the future, we could also consider other behaviors, like app/web interactions, or retention metrics, to get a more complete sense of engagement.\n",
    "- I assume that 6 months of activity would mean meaningful data. Users who have been active for at least six months are more likely to provide actionable insights into power user behavior. I am filtering out newer users who might still be learning the platform.\n",
    "- The 15% spending and 10% scanning thresholds are based on what I see in the data right now, but it can be adjusted based on specific business goals or new patterns in user behavior.\n",
    "- I assume that the data we have on spending, receipt scans, and account age is accurate and up to date. If there are gaps like missing transactions, it could throw off the identification of power users."
   ]
  },
  {
   "cell_type": "code",
   "execution_count": 1112,
   "metadata": {},
   "outputs": [
    {
     "name": "stdout",
     "output_type": "stream",
     "text": [
      "                     USER_ID  TOTAL_RECEIPTS  TOTAL_SPENT  \\\n",
      "0   5b441360be53340f289b0795               2        18.32   \n",
      "1   5c366bf06d9819129dfa1118               3        17.42   \n",
      "2   5f21e60446f11314a16015de               2        17.96   \n",
      "3   610a8541ca1fab5b417b5d33               3        17.65   \n",
      "4   61a58ac49c135b462ccddd1c               3        19.92   \n",
      "5   62c09104baa38d1a1f6c260e               3        20.28   \n",
      "6   62ffec490d9dbaff18c0a999               3        52.28   \n",
      "7   632fc9dc0c625b72ae991f83               2        16.75   \n",
      "8   6351760a3a4a3534d9393ecd               2        27.74   \n",
      "9   643059f0838dd2651fb27f50               2        75.99   \n",
      "10  64dd9170516348066e7c4006               2        26.52   \n",
      "11  6682b24786cc41b000ce5e77               2        17.30   \n",
      "\n",
      "                          ID              CREATED_DATE  \\\n",
      "0   5b441360be53340f289b0795 2018-07-10 02:01:04+00:00   \n",
      "1   5c366bf06d9819129dfa1118 2019-01-09 21:47:28+00:00   \n",
      "2   5f21e60446f11314a16015de 2020-07-29 21:11:32+00:00   \n",
      "3   610a8541ca1fab5b417b5d33 2021-08-04 12:17:05+00:00   \n",
      "4   61a58ac49c135b462ccddd1c 2021-11-30 02:21:56+00:00   \n",
      "5   62c09104baa38d1a1f6c260e 2022-07-02 18:40:04+00:00   \n",
      "6   62ffec490d9dbaff18c0a999 2022-08-19 20:02:17+00:00   \n",
      "7   632fc9dc0c625b72ae991f83 2022-09-25 03:24:12+00:00   \n",
      "8   6351760a3a4a3534d9393ecd 2022-10-20 16:23:38+00:00   \n",
      "9   643059f0838dd2651fb27f50 2023-04-07 17:59:12+00:00   \n",
      "10  64dd9170516348066e7c4006 2023-08-17 03:18:08+00:00   \n",
      "11  6682b24786cc41b000ce5e77 2024-07-01 13:42:31+00:00   \n",
      "\n",
      "                  BIRTH_DATE STATE LANGUAGE  GENDER  AGE  \n",
      "0  1982-09-27 06:00:00+00:00    IL       en  female   43  \n",
      "1  1989-04-21 04:00:00+00:00    NC       en  female   36  \n",
      "2  1980-07-29 04:00:00+00:00    NC       en    male   45  \n",
      "3  1977-01-12 00:00:00+00:00    NY       en    male   48  \n",
      "4  1996-05-20 00:00:00+00:00    TN       en  female   29  \n",
      "5  1978-03-31 00:00:00+00:00    PA       en  female   47  \n",
      "6  1951-12-24 05:00:00+00:00    NY       en  female   74  \n",
      "7  1980-05-15 07:00:00+00:00    CA   es-419  female   45  \n",
      "8  1984-12-25 00:00:00+00:00    FL       en  female   41  \n",
      "9  1954-10-02 00:00:00+00:00    PA       en    male   71  \n",
      "10 1993-12-11 04:18:09+00:00    SC       en  female   32  \n",
      "11 1988-08-12 00:00:00+00:00    WI       en  female   37  \n"
     ]
    }
   ],
   "source": [
    "# Defining Power users\n",
    "\n",
    "# Users with highest spending\n",
    "user_spending = transactions_df.groupby('USER_ID')['FINAL_SALE'].sum().reset_index()\n",
    "user_spending.rename(columns={'FINAL_SALE': 'TOTAL_SPENT'}, inplace=True)\n",
    "# Top 15% of highest spenders\n",
    "spending_threshold = user_spending['TOTAL_SPENT'].quantile(0.85)\n",
    "high_spenders = user_spending[user_spending['TOTAL_SPENT'] >= spending_threshold]\n",
    "\n",
    "# Users with most receipts scanned\n",
    "user_receipt_counts = transactions_df.groupby('USER_ID')['RECEIPT_ID'].nunique().reset_index()\n",
    "user_receipt_counts.rename(columns={'RECEIPT_ID': 'TOTAL_RECEIPTS'}, inplace=True)\n",
    "# Top 10% of users with most receipts scanned\n",
    "receipt_threshold = user_receipt_counts['TOTAL_RECEIPTS'].quantile(0.90)\n",
    "most_receipts_scanned = user_receipt_counts[user_receipt_counts['TOTAL_RECEIPTS'] >= receipt_threshold]\n",
    "\n",
    "# Account for atleast 6 months\n",
    "# users_six_months was defined in the last business problem\n",
    "\n",
    "# Merging the 3 criteria\n",
    "power_users_df = most_receipts_scanned.merge(high_spenders, on='USER_ID', how='inner')\n",
    "power_users_df = power_users_df.merge(users_six_months, left_on='USER_ID', right_on='ID', how='inner')\n",
    "\n",
    "print(power_users_df)"
   ]
  },
  {
   "cell_type": "code",
   "execution_count": 1113,
   "metadata": {},
   "outputs": [
    {
     "data": {
      "image/png": "[encoded data removed]",
      "text/plain": [
       "<Figure size 576x360 with 1 Axes>"
      ]
     },
     "metadata": {
      "needs_background": "light"
     },
     "output_type": "display_data"
    }
   ],
   "source": [
    "# Visualizing the distribution for Total Spending for power users\n",
    "plt.figure(figsize=(8, 5))\n",
    "sns.histplot(power_users_df['TOTAL_SPENT'], bins=20)\n",
    "plt.title(\"Distribution of Total Spending\")\n",
    "plt.xlabel(\"Total Spend $\")\n",
    "plt.ylabel(\"Count of Users\")\n",
    "plt.show()"
   ]
  },
  {
   "cell_type": "code",
   "execution_count": 1114,
   "metadata": {},
   "outputs": [
    {
     "data": {
      "image/png": "[encoded data removed]",
      "text/plain": [
       "<Figure size 216x432 with 1 Axes>"
      ]
     },
     "metadata": {},
     "output_type": "display_data"
    }
   ],
   "source": [
    "# Visualizing the distribution of gender for power users\n",
    "plt.figure(figsize=(3, 6))\n",
    "gender_counts = power_users_df['GENDER'].value_counts()\n",
    "gender_counts.plot(kind='pie', autopct='%1.1f%%', startangle=90)\n",
    "\n",
    "plt.title(\"Power Users by Gender\")\n",
    "plt.ylabel(\"\")\n",
    "plt.show()"
   ]
  },
  {
   "cell_type": "code",
   "execution_count": 1115,
   "metadata": {},
   "outputs": [
    {
     "data": {
      "image/png": "[encoded data removed]",
      "text/plain": [
       "<Figure size 864x360 with 1 Axes>"
      ]
     },
     "metadata": {
      "needs_background": "light"
     },
     "output_type": "display_data"
    }
   ],
   "source": [
    "# Visualizing the power users by state\n",
    "plt.figure(figsize=(12, 5))\n",
    "sns.countplot(data=power_users_df, y='STATE', order=power_users_df['STATE'].value_counts().index)\n",
    "plt.title(\"Power Users by State\")\n",
    "plt.xlabel(\"Count of Users\")\n",
    "plt.ylabel(\"State\")\n",
    "plt.show()"
   ]
  },
  {
   "cell_type": "markdown",
   "metadata": {},
   "source": [
    "### Leading Brand in Dips & Salsa \n",
    "\n",
    "#### Assumptions\n",
    "- I do not have the full picture on why we are focusing on leading brands for the Dips and Salsa category. My assumption is that the brands with the most sales in this category are the leading brands. This criteria could be updated based on the business context.\n",
    "- I assume that the brand information in the product dataset is accurate, and the products are correctly categorized under 'Dips & Salsa'\n",
    "- I assume that the FINAL_SALE data is accurate and up to date.\n",
    "- The choice of focusing on the top 10 brands is based on the idea that these represent the most successful brands within the Dips and Salsa category, but this threshold could be adjusted based on business needs."
   ]
  },
  {
   "cell_type": "code",
   "execution_count": 1116,
   "metadata": {},
   "outputs": [
    {
     "data": {
      "image/png": "[encoded data removed]",
      "text/plain": [
       "<Figure size 720x360 with 1 Axes>"
      ]
     },
     "metadata": {
      "needs_background": "light"
     },
     "output_type": "display_data"
    }
   ],
   "source": [
    "# Leading Brand in Dips & Salsa \n",
    "\n",
    "# Merging transactions  dataset with product data\n",
    "dips_salsa_sales = transactions_df.merge(products_df, on='BARCODE', how='inner')\n",
    "dips_salsa_sales = dips_salsa_sales[dips_salsa_sales['CATEGORY_2'] == 'Dips & Salsa']\n",
    "\n",
    "# Aggregating sales by brand\n",
    "brand_sales = dips_salsa_sales.groupby('BRAND', as_index=False)['FINAL_SALE'].sum()\n",
    "\n",
    "# Excluding 'Unknown' Brands\n",
    "brand_sales = brand_sales[brand_sales['BRAND'] != 'Unknown']\n",
    "\n",
    "# Getting top 10 brands\n",
    "top_brands = brand_sales.sort_values(by='FINAL_SALE', ascending=False).head(10)\n",
    "\n",
    "# Visualizing top 10 brands in the Dips & Salsa category\n",
    "plt.figure(figsize=(10,5))\n",
    "sns.barplot(x=top_brands['BRAND'], y=top_brands['FINAL_SALE'])\n",
    "plt.xlabel('Brand')\n",
    "plt.ylabel('Total Sales')\n",
    "plt.title('Top 10 Brands in Dips & Salsa Category')\n",
    "plt.xticks(rotation=45)\n",
    "plt.show()\n"
   ]
  },
  {
   "cell_type": "markdown",
   "metadata": {},
   "source": [
    "### Stakeholder Communication\n",
    "\n",
    "Hi Team,\n",
    "\n",
    "I wanted to share some key findings and insights from my recent analysis of the user, transactions, and products datasets. Below is a summary of my process, key data quality issues, interesting trends, and requests for action.\n",
    "\n",
    "Key Data Quality Issues\n",
    "\n",
    "- Missing Values: All three datasets I analyzed had Null values in some key fields. For ex, the Barcode in both transactions and products data had null values. The transactions data had missing data for sales and quantity, and the products data had missing values for category, brand as well as manufacturer. I handled categorical null values by replacing with 'Unknown', date null values by replacing with 1900-01-01 and quantitative null values by replacing with 0.\n",
    "- Duplicate Data: Both the transactions and products datasets had duplicate values, which I removed from my analysis to ensure a clean analysis.\n",
    "\n",
    "Interesting Trends in the Data\n",
    "\n",
    "- User Demographics: After visualizing the distribution of users' ages and birth years, it appears that the majority of our users are between 25-35 years old, which could offer opportunities for targeted marketing and product strategies. Regarding gender distribution, users have a slight majority identifying as female.\n",
    "- Sales Trends: Visualizing stores with the final sales amount identified Walmart as the highest sales store, followed by Costco. This could offer opportunities for brand partnerships.\n",
    "- Category distribution: Looking at the spread of products by category, I noticed that we have the most products in the Health and Wellness category, followed by Snacks. One interesting opportunity here could be to reach out to customers and understand if they would like more product options in other categories. \n",
    "- Dips & Salsa Category: The top 10 brands in the Dips & Salsa category based on sales show a clear market leader, which may inform future inventory, marketing, and sales strategies. This insight could be particularly useful for upcoming campaigns focused on product performance.\n",
    "\n",
    "Key Insights\n",
    "\n",
    "- Power Users: I've defined power users as those who are in the top 15% of spenders based on total spending, are in the top 10% of receipt scanners, and have been active for at least six months. This segmentation identifies a high-value cohort of customers who can be targeted for personalized offers and marketing. The thresholds are adjustable, and we could expand the criteria to include other engagement metrics, such as app or web interactions.\n",
    "- Leading Brand in Dips & Salsa: Based on total sales, I identified the Tostitos as the leading brand in the Dips & Salsa category, followed by Fritos and Fresh Cravings. We might want to dive deeper into the context for focusing on these brands,  whether it's for an upcoming campaign or inventory planning.\n",
    "\n",
    "Request for Action:\n",
    "\n",
    "- Data Validation Audit: Can we further investigate the 'Unknown' values in the datasets to ensure there are no larger issues with data collection or categorization? Can we also sync on how to best handle null values with different data types? Can we also create alerts to inform us if there are missing and duplicate values in the data?\n",
    "- Power User Analysis Feedback: Does the current power user segmentation align with our business goals? Would you prefer different thresholds or additional metrics (e.g., app usage or retention)?\n",
    "- Brand Strategy for Dips & Salsa: Are there specific business objectives or strategies driving the focus on top brands in the Dips & Salsa category? This could help refine our analysis further.\n",
    "\n",
    "Let me know your thoughts and if you'd like more details on any of these points. Looking forward to your feedback!"
   ]
  }
 ],
 "metadata": {
  "kernelspec": {
   "display_name": "Python 3",
   "language": "python",
   "name": "python3"
  },
  "language_info": {
   "codemirror_mode": {
    "name": "ipython",
    "version": 3
   },
   "file_extension": ".py",
   "mimetype": "text/x-python",
   "name": "python",
   "nbconvert_exporter": "python",
   "pygments_lexer": "ipython3",
   "version": "3.8.5"
  }
 },
 "nbformat": 4,
 "nbformat_minor": 4
}
